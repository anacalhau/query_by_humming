{
 "cells": [
  {
   "cell_type": "code",
   "execution_count": 1,
   "id": "e6ffd5fc",
   "metadata": {},
   "outputs": [],
   "source": [
    "import os, sys, csv\n",
    "import essentia\n",
    "from essentia import *\n",
    "from essentia import standard as stdess\n",
    "from pylab import *\n",
    "from numpy import *\n",
    "import matplotlib.pyplot as plt\n",
    "import numpy as np\n",
    "import scipy\n",
    "import librosa\n",
    "import librosa.display\n",
    "import pandas as pd\n",
    "import glob\n",
    "import pickle"
   ]
  },
  {
   "cell_type": "markdown",
   "id": "3aebf5aa",
   "metadata": {},
   "source": [
    "# Parameters"
   ]
  },
  {
   "cell_type": "code",
   "execution_count": 2,
   "id": "5923369f",
   "metadata": {},
   "outputs": [],
   "source": [
    "\n",
    "hopSize = 128\n",
    "frameSize = 2048\n",
    "sampleRate = 44100\n",
    "guessUnvoiced = True\n",
    "\n",
    "median_filter_size = 21\n",
    "block_chromagram = 150\n",
    "ref_note_hz = 55.0\n",
    "\n",
    "notes = librosa.hz_to_note([55.0,58.27,61.74,65.41,69.30,73.42,77.78,82.41,87.31,92.50,97.99,103.83])"
   ]
  },
  {
   "cell_type": "markdown",
   "id": "de966c5f",
   "metadata": {},
   "source": [
    "## Directories"
   ]
  },
  {
   "cell_type": "code",
   "execution_count": 3,
   "id": "37bbff70",
   "metadata": {},
   "outputs": [],
   "source": [
    "ref_path = \"/home/acalhau/Documentos/Dataset/audios_orig_covers"\n",
    "query_path = \"/home/acalhau/my_env/query_by_humming/src"\n",
    "metadata_path = \"/Users/dirceusilva/OneDrive/doutorado/Coimbra/SharedFolders/QBH/Dataset/MTG-QBH/metadata/Queries.csv\"\n",
    "results_path = \"/home/acalhau/Documentos/tests/qbh"\n",
    "features_path = \"/home/acalhau/Documentos/tests/qbh/features\""    
   ]
  },
  {
   "cell_type": "markdown",
   "id": "68f8ecf2",
   "metadata": {},
   "source": [
    "# Functions"
   ]
  },
  {
   "cell_type": "markdown",
   "id": "343ba487",
   "metadata": {},
   "source": [
    "## Read Audio"
   ]
  },
  {
   "cell_type": "code",
   "execution_count": 4,
   "id": "f3d690eb",
   "metadata": {},
   "outputs": [],
   "source": [
    "def read_audio_essentia(filename, sampleRate):\n",
    "    # create an audio loader and import audio file\n",
    "    loader = stdess.MonoLoader(filename = filename, sampleRate = sampleRate, downmix=\"mix\")\n",
    "    audio = loader()\n",
    "    \n",
    "    \n",
    "    return audio, sampleRate\n",
    "\n",
    "def read_audio_librosa(filename, sampleRate):\n",
    "    # create an audio loader and import audio file\n",
    "    audio, fs = librosa.load(filename, sr = sampleRate, mono=True)\n",
    "    \n",
    "    return audio, fs\n"
   ]
  },
  {
   "cell_type": "markdown",
   "id": "a4aebd06",
   "metadata": {},
   "source": [
    "## Melody Extraction"
   ]
  },
  {
   "cell_type": "code",
   "execution_count": 5,
   "id": "94476a7b",
   "metadata": {},
   "outputs": [],
   "source": [
    "def melody_extraction(audio, framesize, hopsize):\n",
    "    # PitchMelodia takes the entire audio signal as input - no frame-wise processing is required here...\n",
    "    audio = stdess.EqualLoudness()(audio)\n",
    "    pExt = stdess.PredominantPitchMelodia(frameSize = framesize, \n",
    "                                   hopSize = hopsize,\n",
    "                                   maxFrequency = 20000.0,\n",
    "                                   minFrequency = 80.0,\n",
    "                                   magnitudeThreshold = 40,\n",
    "                                   guessUnvoiced = False)\n",
    "    pitch, pitchConf = pExt(audio)\n",
    "    time=np.linspace(0.0,len(audio)/sampleRate,len(pitch) )\n",
    "    \n",
    "    return pitch, pitchConf, time"
   ]
  },
  {
   "cell_type": "markdown",
   "id": "d644de1d",
   "metadata": {},
   "source": [
    "##  Scales Conversions"
   ]
  },
  {
   "cell_type": "code",
   "execution_count": 6,
   "id": "3cfb5e36",
   "metadata": {},
   "outputs": [],
   "source": [
    "def hz_to_cents(hz, fref=440.0):\n",
    "    m = np.asanyarray(hz)/fref\n",
    "    return 1200*(np.log2(m, out=np.zeros_like(m), where=(m!=0.))) # - np.log2(fref))\n",
    "\n",
    "def cents_to_hz(cents, fref=440.0):\n",
    "    return fref * 2**(np.asanyarray(cents)/1200)\n",
    "\n",
    "def hz_to_idx_semitone(hz, fref=440.0, pcpsize=12.0):\n",
    "    m = np.asanyarray(hz)/fref\n",
    "    return np.round(pcpsize*(np.log2(m, out=np.zeros_like(m), where=(m!=0.)))) % pcpsize + 1\n",
    "\n",
    "def semitone_dist_to_hz(semitone, fref=440.0, pcpsize=12):\n",
    "    return fref * 2**(np.asanyarray(semitone)/pcpsize)\n",
    "\n",
    "def hz_to_octs(hz, tuning=0.0, pcpsize=12, fref=440.0):\n",
    "    A440 = fref * 2.0 ** (tuning / pcpsize-4)\n",
    "    m = np.asanyarray(hz)/float(A440)\n",
    "    return np.log2(m, out=np.zeros_like(m), where=(m!=0.))\n",
    "\n",
    "def octs_to_hz(octs, tuning=0.0, pcpsize=12, fref=440.0):\n",
    "    A440 = fref * 2.0 ** (tuning / pcpsize-4)\n",
    "    return float(A440) * (2.0 ** np.asanyarray(octs))\n",
    "\n",
    "def midi_to_hz(p):\n",
    "    return 440.0 * (2.0 ** ((np.asanyarray(p) - 69.0) / 12.0))\n",
    "\n",
    "def hz_to_midi(hz, A440=440.0):\n",
    "    m = np.asanyarray(hz)/float(A440)\n",
    "    return 12 * np.log2(m, out=np.zeros_like(m), where=(m!=0.)) + 69"
   ]
  },
  {
   "cell_type": "markdown",
   "id": "d1751404",
   "metadata": {},
   "source": [
    "## Semitone Quantization"
   ]
  },
  {
   "cell_type": "code",
   "execution_count": 7,
   "id": "abf64db8",
   "metadata": {},
   "outputs": [],
   "source": [
    "def quantization_semitone(pitch_cents):\n",
    "    \n",
    "    freqs=np.arange(-0.5,76,1)\n",
    "    semitones=semitone_dist_to_hz(freqs,fref=ref_note_hz)\n",
    "    bins_cents=hz_to_cents(semitones, fref=ref_note_hz)\n",
    "\n",
    "    idx = np.digitize(pitch_cents, bins=bins_cents)\n",
    "    cents_q = (bins_cents[idx]+bins_cents[idx-1])/2\n",
    "    cents_q[cents_q < 1.0]  = 0.0\n",
    "\n",
    "    return cents_q"
   ]
  },
  {
   "cell_type": "markdown",
   "id": "d39ff1ba",
   "metadata": {},
   "source": [
    "## Semitones to Octaves and Chromagram"
   ]
  },
  {
   "cell_type": "code",
   "execution_count": 8,
   "id": "01cbeadd",
   "metadata": {},
   "outputs": [],
   "source": [
    "def semitone_to_octave(cents, pitchConf):\n",
    "    \n",
    "    semitones_q = np.zeros_like(cents)\n",
    "    chromagram = np.zeros((12, len(cents)))\n",
    "\n",
    "    for i in range(len(cents)):\n",
    "        if cents[i] > 1.0:\n",
    "            semitones_q[i] = (cents[i] / 100) % 12\n",
    "            chromagram[int(semitones_q[i]),i] = abs(pitchConf[i])\n",
    "            \n",
    "    return semitones_q, chromagram"
   ]
  },
  {
   "cell_type": "markdown",
   "id": "4f3d476f",
   "metadata": {},
   "source": [
    "## Chromagram Reduction"
   ]
  },
  {
   "cell_type": "code",
   "execution_count": 9,
   "id": "69fd8c18",
   "metadata": {},
   "outputs": [],
   "source": [
    "def chromagram_reduction(chromagram, block, time=None):\n",
    "    \n",
    "    nframes = int(np.ceil(chromagram.shape[1]/block))\n",
    "\n",
    "    chromagram_reduced = np.zeros((chromagram.shape[0],nframes))\n",
    "    \n",
    "    time_reduced = None\n",
    "    if time is not None:\n",
    "        time_reduced = np.zeros((nframes,))\n",
    "\n",
    "    for k in range(chromagram_reduced.shape[1]):\n",
    "        start = k*block\n",
    "        end = min((k+1)*block,chromagram.shape[1])\n",
    "        chromagram_reduced[:,k] =  np.sum(chromagram[:,start:end], axis=1)\n",
    "        if time is not None:\n",
    "            time_reduced[k] = np.mean(time[start:end])\n",
    "    \n",
    "    # divide by max each column\n",
    "    #chromagram_reduced = chromagram_reduced/(np.max(chromagram_reduced,axis=0)+np.spacing(0)) \n",
    "    \n",
    "    return chromagram_reduced, time_reduced"
   ]
  },
  {
   "cell_type": "markdown",
   "id": "22c2fdb7",
   "metadata": {},
   "source": [
    "##  Plot Chromagram"
   ]
  },
  {
   "cell_type": "code",
   "execution_count": 10,
   "id": "ba118954",
   "metadata": {},
   "outputs": [],
   "source": [
    "def plot_chromagram(chroma, times, notes, mappable = None):\n",
    "    plt.figure(figsize=(20,8))\n",
    "    plt_spec = plt.imshow(chroma,origin='lower', aspect=\"auto\")\n",
    "\n",
    "    ## create ylim\n",
    "    ks      = np.arange(12)\n",
    "    plt.yticks(ks,notes)\n",
    "    plt.ylabel(\"Notes\")\n",
    "\n",
    "    ## create xlim\n",
    "    Nxticks = 10\n",
    "    ts_spec = np.linspace(0,chroma.shape[1],Nxticks)\n",
    "\n",
    "    ts_spec_sec  = [\"{:4.2f}\".format(times[min(int(i),len(times)-1)]) for i in ts_spec]\n",
    "    plt.xticks(ts_spec,ts_spec_sec)\n",
    "    plt.xlabel(\"Time (sec)\")\n",
    "\n",
    "    plt.title(\"Chromagram\")\n",
    "    plt.colorbar(mappable,use_gridspec=True)\n",
    "    plt.show()\n",
    "    return(plt_spec)"
   ]
  },
  {
   "cell_type": "markdown",
   "id": "863edd91",
   "metadata": {},
   "source": [
    "## Chromagram Extraction Algorithm"
   ]
  },
  {
   "cell_type": "code",
   "execution_count": 11,
   "id": "96baa81e",
   "metadata": {},
   "outputs": [],
   "source": [
    "def chromagram_extraction(audio, frameSize, hopSize):\n",
    "    # Melody Extraction\n",
    "    pitch, pitchConf, time = melody_extraction(audio, frameSize, hopSize)\n",
    "    # Convert to cents\n",
    "    pitch_cents = hz_to_cents(pitch, fref=ref_note_hz)\n",
    "    # Quantization\n",
    "    pitch_cents_q = quantization_semitone(pitch_cents)\n",
    "    # Median Filter\n",
    "    pitch_cents_q_filtered=scipy.signal.medfilt(pitch_cents_q, median_filter_size)\n",
    "    # Chromagram\n",
    "    pitch_semitones_q, chromagram = semitone_to_octave(pitch_cents_q_filtered, pitchConf)\n",
    "    # Chromagram reduction\n",
    "    chromagram_reduced, time_reduced = chromagram_reduction(chromagram, block_chromagram, time=time)\n",
    "    \n",
    "    return chromagram_reduced, time_reduced"
   ]
  },
  {
   "cell_type": "markdown",
   "id": "75c9e988",
   "metadata": {},
   "source": [
    "# Algorithm"
   ]
  },
  {
   "cell_type": "markdown",
   "id": "7506c44c",
   "metadata": {},
   "source": [
    "## Load and Extract Reference Dataset"
   ]
  },
  {
   "cell_type": "code",
   "execution_count": 12,
   "id": "b8fe56a3",
   "metadata": {},
   "outputs": [
    {
     "name": "stdout",
     "output_type": "stream",
     "text": [
      "0 - 260 - 1066\n",
      "1 - 260 - 1066_1\n",
      "2 - 260 - 1066_2\n"
     ]
    }
   ],
   "source": [
    "\n",
    "filenames = glob.glob(os.path.join(ref_path,\"*.wav\"))\n",
    "\n",
    "filenames = sorted(filenames)\n",
    "\n",
    "ref_melody = []\n",
    "ref_dic = {}\n",
    "\n",
    "for k,filepath in enumerate(filenames[:3]):\n",
    "    \n",
    "    file = os.path.basename(filepath)[:-4]\n",
    "    print(\"{:d} - {:d} - {}\".format(k, len(filenames), file))\n",
    "    \n",
    "    audio, fs = read_audio_essentia(filepath, sampleRate)\n",
    "    chromagram_reduced, time_reduced = chromagram_extraction(audio, frameSize, hopSize)\n",
    "    \n",
    "    features = {}\n",
    "    features[\"songid\"] = file\n",
    "    features[\"chroma\"] = chromagram_reduced.T.astype(np.float32)\n",
    "    features[\"time\"] = time_reduced\n",
    "    \n",
    "    file_features = os.path.join(features_path, file +\".pkl\")\n",
    "    \n",
    "    ref_dic[file] = {}\n",
    "    ref_dic[file][\"songid\"] = file\n",
    "    ref_dic[file][\"file\"] = file_features \n",
    "    \n",
    "    with open(file_features,\"wb\") as f:\n",
    "        pickle.dump(features,f)\n",
    "    "
   ]
  },
  {
   "cell_type": "code",
   "execution_count": 13,
   "id": "6f5252de",
   "metadata": {},
   "outputs": [],
   "source": [
    "fileRef = \"ChromaRef.pkl\"\n",
    "\n",
    "with open(os.path.join(results_path, fileRef),\"wb\") as f:\n",
    "    pickle.dump(ref_dic,f)"
   ]
  },
  {
   "cell_type": "code",
   "execution_count": 14,
   "id": "a9016ac2",
   "metadata": {},
   "outputs": [],
   "source": [
    "def getFeatures(file):\n",
    "    \n",
    "    with open(file,\"rb\") as f:\n",
    "        features = pickle.load(f)\n",
    "    \n",
    "    return features"
   ]
  },
  {
   "cell_type": "markdown",
   "id": "ea4f838c",
   "metadata": {},
   "source": [
    "## Load Metadata"
   ]
  },
  {
   "cell_type": "code",
   "execution_count": 14,
   "id": "c03a698c",
   "metadata": {
    "scrolled": true
   },
   "outputs": [
    {
     "name": "stdout",
     "output_type": "stream",
     "text": [
      "1118\n"
     ]
    }
   ],
   "source": [
    "Queries_df = pd.read_csv(metadata_path, sep=\",\")\n",
    "songid = Queries_df[Queries_df[\"Query ID\"] == \"q1\"][\"Song ID\"].values.astype(str)[0]\n",
    "print(songid)"
   ]
  },
  {
   "cell_type": "markdown",
   "id": "39ee6c17",
   "metadata": {},
   "source": [
    "## Load and Extract Query Dataset"
   ]
  },
  {
   "cell_type": "code",
   "execution_count": 15,
   "id": "8499b555",
   "metadata": {},
   "outputs": [
    {
     "name": "stdout",
     "output_type": "stream",
     "text": [
      "0 - 118 - q1\n",
      "1 - 118 - q10\n",
      "2 - 118 - q100\n",
      "3 - 118 - q101\n",
      "4 - 118 - q102\n",
      "5 - 118 - q103\n",
      "6 - 118 - q104\n",
      "7 - 118 - q105\n",
      "8 - 118 - q106\n",
      "9 - 118 - q107\n",
      "10 - 118 - q108\n",
      "11 - 118 - q109\n",
      "12 - 118 - q11\n",
      "13 - 118 - q110\n",
      "14 - 118 - q111\n",
      "15 - 118 - q112\n",
      "16 - 118 - q113\n",
      "17 - 118 - q114\n",
      "18 - 118 - q115\n",
      "19 - 118 - q116\n",
      "20 - 118 - q117\n",
      "21 - 118 - q118\n",
      "22 - 118 - q12\n",
      "23 - 118 - q13\n",
      "24 - 118 - q14\n",
      "25 - 118 - q15\n",
      "26 - 118 - q16\n",
      "27 - 118 - q17\n",
      "28 - 118 - q18\n",
      "29 - 118 - q19\n",
      "30 - 118 - q2\n",
      "31 - 118 - q20\n",
      "32 - 118 - q21\n",
      "33 - 118 - q22\n",
      "34 - 118 - q23\n",
      "35 - 118 - q24\n",
      "36 - 118 - q25\n",
      "37 - 118 - q26\n",
      "38 - 118 - q27\n",
      "39 - 118 - q28\n",
      "40 - 118 - q29\n",
      "41 - 118 - q3\n",
      "42 - 118 - q30\n",
      "43 - 118 - q31\n",
      "44 - 118 - q32\n",
      "45 - 118 - q33\n",
      "46 - 118 - q34\n",
      "47 - 118 - q35\n",
      "48 - 118 - q36\n",
      "49 - 118 - q37\n",
      "50 - 118 - q38\n",
      "51 - 118 - q39\n",
      "52 - 118 - q4\n",
      "53 - 118 - q40\n",
      "54 - 118 - q41\n",
      "55 - 118 - q42\n",
      "56 - 118 - q43\n",
      "57 - 118 - q44\n",
      "58 - 118 - q45\n",
      "59 - 118 - q46\n",
      "60 - 118 - q47\n",
      "61 - 118 - q48\n",
      "62 - 118 - q49\n",
      "63 - 118 - q5\n",
      "64 - 118 - q50\n",
      "65 - 118 - q51\n",
      "66 - 118 - q52\n",
      "67 - 118 - q53\n",
      "68 - 118 - q54\n",
      "69 - 118 - q55\n",
      "70 - 118 - q56\n",
      "71 - 118 - q57\n",
      "72 - 118 - q58\n",
      "73 - 118 - q59\n",
      "74 - 118 - q6\n",
      "75 - 118 - q60\n",
      "76 - 118 - q61\n",
      "77 - 118 - q62\n",
      "78 - 118 - q63\n",
      "79 - 118 - q64\n",
      "80 - 118 - q65\n",
      "81 - 118 - q66\n",
      "82 - 118 - q67\n",
      "83 - 118 - q68\n",
      "84 - 118 - q69\n",
      "85 - 118 - q7\n",
      "86 - 118 - q70\n",
      "87 - 118 - q71\n",
      "88 - 118 - q72\n",
      "89 - 118 - q73\n",
      "90 - 118 - q74\n",
      "91 - 118 - q75\n",
      "92 - 118 - q76\n",
      "93 - 118 - q77\n",
      "94 - 118 - q78\n",
      "95 - 118 - q79\n",
      "96 - 118 - q8\n",
      "97 - 118 - q80\n",
      "98 - 118 - q81\n",
      "99 - 118 - q82\n",
      "100 - 118 - q83\n",
      "101 - 118 - q84\n",
      "102 - 118 - q85\n",
      "103 - 118 - q86\n",
      "104 - 118 - q87\n",
      "105 - 118 - q88\n",
      "106 - 118 - q89\n",
      "107 - 118 - q9\n",
      "108 - 118 - q90\n",
      "109 - 118 - q91\n",
      "110 - 118 - q92\n",
      "111 - 118 - q93\n",
      "112 - 118 - q94\n",
      "113 - 118 - q95\n",
      "114 - 118 - q96\n",
      "115 - 118 - q97\n",
      "116 - 118 - q98\n",
      "117 - 118 - q99\n"
     ]
    }
   ],
   "source": [
    "filenames = glob.glob(os.path.join(query_path,\"*.wav\"))\n",
    "filenames = sorted(filenames)\n",
    "\n",
    "query_dic = {}\n",
    "\n",
    "for k,filepath in enumerate(filenames):\n",
    "    file = os.path.basename(filepath)[:-4]\n",
    "    print(\"{:d} - {:d} - {}\".format(k, len(filenames), file))\n",
    "    query = file.split(\".\")[0]\n",
    "    \n",
    "    audio, fs = read_audio_essentia(filepath, sampleRate)\n",
    "    chromagram_reduced, time_reduced = chromagram_extraction(audio, frameSize, hopSize)\n",
    "    \n",
    "    query_dic[file] = {}\n",
    "    query_dic[file][\"query\"] = query\n",
    "    query_dic[file][\"songid\"] = Queries_df[Queries_df[\"Query ID\"] == file][\"Song ID\"].values.astype(str)[0]\n",
    "    \n",
    "    file_features = os.path.join(features_path, file +\".pkl\")\n",
    "    query_dic[file][\"file\"] = file_features\n",
    "\n",
    "    features = {}\n",
    "    features[\"query\"] = query\n",
    "    features[\"songid\"] = Queries_df[Queries_df[\"Query ID\"] == file][\"Song ID\"].values.astype(str)[0]\n",
    "    features[\"chroma\"] = chromagram_reduced.T.astype(np.float32)\n",
    "    features[\"time\"] = time_reduced\n",
    "    \n",
    "    with open(file_features,\"wb\") as f:\n",
    "        pickle.dump(features,f)\n",
    "    "
   ]
  },
  {
   "cell_type": "code",
   "execution_count": 16,
   "id": "f1803702",
   "metadata": {},
   "outputs": [],
   "source": [
    "fileQuery = \"ChromaQuery.pkl\"\n",
    "\n",
    "with open(os.path.join(results_path, fileQuery),\"wb\") as f:\n",
    "    pickle.dump(query_dic,f)"
   ]
  },
  {
   "cell_type": "markdown",
   "id": "62594e55",
   "metadata": {},
   "source": [
    "## Read Chromas"
   ]
  },
  {
   "cell_type": "code",
   "execution_count": 30,
   "id": "6c5dde91",
   "metadata": {},
   "outputs": [],
   "source": [
    "fileQuery = \"ChromaQuery.pkl\"\n",
    "\n",
    "with open(os.path.join(results_path, fileQuery),\"rb\") as f:\n",
    "    query_dic = pickle.load(f)\n",
    "\n",
    "fileRef = \"ChromaRef.pkl\"\n",
    "\n",
    "with open(os.path.join(results_path, fileRef),\"rb\") as f:\n",
    "    ref_dic = pickle.load(f)"
   ]
  },
  {
   "cell_type": "markdown",
   "id": "af7615df",
   "metadata": {},
   "source": [
    "## Comparisons"
   ]
  },
  {
   "cell_type": "code",
   "execution_count": 31,
   "id": "2f970ef2",
   "metadata": {},
   "outputs": [
    {
     "name": "stdout",
     "output_type": "stream",
     "text": [
      "0 - 118 - q1\n",
      "1 - 118 - q10\n",
      "2 - 118 - q100\n",
      "3 - 118 - q101\n",
      "4 - 118 - q102\n",
      "5 - 118 - q103\n",
      "6 - 118 - q104\n",
      "7 - 118 - q105\n",
      "8 - 118 - q106\n",
      "9 - 118 - q107\n",
      "10 - 118 - q108\n",
      "11 - 118 - q109\n",
      "12 - 118 - q11\n",
      "13 - 118 - q110\n",
      "14 - 118 - q111\n",
      "15 - 118 - q112\n",
      "16 - 118 - q113\n",
      "17 - 118 - q114\n",
      "18 - 118 - q115\n",
      "19 - 118 - q116\n",
      "20 - 118 - q117\n",
      "21 - 118 - q118\n",
      "22 - 118 - q12\n",
      "23 - 118 - q13\n",
      "24 - 118 - q14\n",
      "25 - 118 - q15\n",
      "26 - 118 - q16\n",
      "27 - 118 - q17\n",
      "28 - 118 - q18\n",
      "29 - 118 - q19\n",
      "30 - 118 - q2\n",
      "31 - 118 - q20\n",
      "32 - 118 - q21\n",
      "33 - 118 - q22\n",
      "34 - 118 - q23\n",
      "35 - 118 - q24\n",
      "36 - 118 - q25\n",
      "37 - 118 - q26\n",
      "38 - 118 - q27\n",
      "39 - 118 - q28\n",
      "40 - 118 - q29\n",
      "41 - 118 - q3\n",
      "42 - 118 - q30\n",
      "43 - 118 - q31\n",
      "44 - 118 - q32\n",
      "45 - 118 - q33\n",
      "46 - 118 - q34\n",
      "47 - 118 - q35\n",
      "48 - 118 - q36\n",
      "49 - 118 - q37\n",
      "50 - 118 - q38\n",
      "51 - 118 - q39\n",
      "52 - 118 - q4\n",
      "53 - 118 - q40\n",
      "54 - 118 - q41\n",
      "55 - 118 - q42\n",
      "56 - 118 - q43\n",
      "57 - 118 - q44\n",
      "58 - 118 - q45\n",
      "59 - 118 - q46\n",
      "60 - 118 - q47\n",
      "61 - 118 - q48\n",
      "62 - 118 - q49\n",
      "63 - 118 - q5\n",
      "64 - 118 - q50\n",
      "65 - 118 - q51\n",
      "66 - 118 - q52\n",
      "67 - 118 - q53\n",
      "68 - 118 - q54\n",
      "69 - 118 - q55\n",
      "70 - 118 - q56\n",
      "71 - 118 - q57\n",
      "72 - 118 - q58\n",
      "73 - 118 - q59\n",
      "74 - 118 - q6\n",
      "75 - 118 - q60\n",
      "76 - 118 - q61\n",
      "77 - 118 - q62\n",
      "78 - 118 - q63\n",
      "79 - 118 - q64\n",
      "80 - 118 - q65\n",
      "81 - 118 - q66\n",
      "82 - 118 - q67\n",
      "83 - 118 - q68\n",
      "84 - 118 - q69\n",
      "85 - 118 - q7\n",
      "86 - 118 - q70\n",
      "87 - 118 - q71\n",
      "88 - 118 - q72\n",
      "89 - 118 - q73\n",
      "90 - 118 - q74\n",
      "91 - 118 - q75\n",
      "92 - 118 - q76\n",
      "93 - 118 - q77\n",
      "94 - 118 - q78\n",
      "95 - 118 - q79\n",
      "96 - 118 - q8\n",
      "97 - 118 - q80\n",
      "98 - 118 - q81\n",
      "99 - 118 - q82\n",
      "100 - 118 - q83\n",
      "101 - 118 - q84\n",
      "102 - 118 - q85\n",
      "103 - 118 - q86\n",
      "104 - 118 - q87\n",
      "105 - 118 - q88\n",
      "106 - 118 - q89\n",
      "107 - 118 - q9\n",
      "108 - 118 - q90\n",
      "109 - 118 - q91\n",
      "110 - 118 - q92\n",
      "111 - 118 - q93\n",
      "112 - 118 - q94\n",
      "113 - 118 - q95\n",
      "114 - 118 - q96\n",
      "115 - 118 - q97\n",
      "116 - 118 - q98\n",
      "117 - 118 - q99\n"
     ]
    }
   ],
   "source": [
    "algorithm = \"serra09\" # {\"serra09\", \"chen17\", \"typeI\"}\n",
    "distanceType = \"asymmetric\"\n",
    "disOnset=0.5\n",
    "disExtension=0.5\n",
    "\n",
    "\n",
    "pChromaCrossSim = stdess.ChromaCrossSimilarity(frameStackSize=1)\n",
    "pCoverSongSim = stdess.CoverSongSimilarity(alignmentType=algorithm, \n",
    "                                           distanceType= distanceType,\n",
    "                                           disOnset=disOnset,disExtension=disExtension) \n",
    "\n",
    "#from utils import get_pdistances, csm_to_binary, CoverSongSimilarity\n",
    "\n",
    "\n",
    "results = {}\n",
    "\n",
    "for k,q in enumerate(query_dic.keys()):\n",
    "    print(\"{:d} - {:d} - {}\".format(k, len(query_dic), query_dic[q][\"query\"]))\n",
    "    \n",
    "    results[q] = {\"query\": query_dic[q][\"query\"],\n",
    "                  \"songid\": query_dic[q][\"songid\"],\n",
    "                  \"res\": []}\n",
    "    \n",
    "    query_feat = getFeatures(query_dic[q][\"file\"])\n",
    "    \n",
    "    for r in ref_dic.keys():\n",
    "        \n",
    "        ref_feat = getFeatures(ref_dic[r][\"file\"])\n",
    "        \n",
    "        csm = pChromaCrossSim(query_feat[\"chroma\"], ref_feat[\"chroma\"])\n",
    "        scoreMatrix, distance = pCoverSongSim(csm)\n",
    "\n",
    "        #pdistances = get_pdistances(query_dic[q][\"chroma\"], ref_dic[r][\"chroma\"])\n",
    "        #csm = csm_to_binary(pdistances, 0.10)\n",
    "\n",
    "        #scoreMatrix, distance, idx_max = CoverSongSimilarity(csm, disOnset=0.5, \n",
    "        #                                                     disExtension=0.5, simType=algorithm, \n",
    "        #                                                     distanceType=\"asymmetric\")\n",
    "        \n",
    "        res = {}\n",
    "        res[\"scoreMatrix\"] = scoreMatrix\n",
    "        res[\"distance\"] = distance\n",
    "        res[\"csm\"] = csm\n",
    "        res[\"ref\"] = r\n",
    "        \n",
    "        results[q][\"res\"].append(res)\n",
    "\n",
    "        \n",
    "\n",
    "fileResults = \"Results_serra09.pkl\"\n",
    "\n",
    "with open(os.path.join(results_path, fileResults),\"wb\") as f:\n",
    "    pickle.dump(results,f)"
   ]
  },
  {
   "cell_type": "markdown",
   "id": "71fff0fe",
   "metadata": {},
   "source": [
    "## results ordered by distances"
   ]
  },
  {
   "cell_type": "code",
   "execution_count": 32,
   "id": "422990dd",
   "metadata": {},
   "outputs": [],
   "source": [
    "\n",
    "def distSort(elem):\n",
    "    return elem[\"distance\"]\n",
    "\n",
    "for q in results:\n",
    "    results[q][\"res\"].sort(key=distSort)\n",
    "    "
   ]
  },
  {
   "cell_type": "markdown",
   "id": "8df07e7a",
   "metadata": {},
   "source": [
    "## Analysis"
   ]
  },
  {
   "cell_type": "code",
   "execution_count": 33,
   "id": "cf84a666",
   "metadata": {},
   "outputs": [
    {
     "name": "stdout",
     "output_type": "stream",
     "text": [
      "q1\n",
      "q10\n",
      "q100\n",
      "q101\n",
      "q102\n",
      "q103\n",
      "q104\n",
      "q105\n",
      "q106\n",
      "q107\n",
      "q108\n",
      "q109\n",
      "q11\n",
      "q110\n",
      "q111\n",
      "q112\n",
      "q113\n",
      "q114\n",
      "q115\n",
      "q116\n",
      "q117\n",
      "q118\n",
      "q12\n",
      "q13\n",
      "q14\n",
      "q15\n",
      "q16\n",
      "q17\n",
      "q18\n",
      "q19\n",
      "q2\n",
      "q20\n",
      "q21\n",
      "q22\n",
      "q23\n",
      "q24\n",
      "q25\n",
      "q26\n",
      "q27\n",
      "q28\n",
      "q29\n",
      "q3\n",
      "q30\n",
      "q31\n",
      "q32\n",
      "q33\n",
      "q34\n",
      "q35\n",
      "q36\n",
      "q37\n",
      "q38\n",
      "q39\n",
      "q4\n",
      "q40\n",
      "q41\n",
      "q42\n",
      "q43\n",
      "q44\n",
      "q45\n",
      "q46\n",
      "q47\n",
      "q48\n",
      "q49\n",
      "q5\n",
      "q50\n",
      "q51\n",
      "q52\n",
      "q53\n",
      "q54\n",
      "q55\n",
      "q56\n",
      "q57\n",
      "q58\n",
      "q59\n",
      "q6\n",
      "q60\n",
      "q61\n",
      "q62\n",
      "q63\n",
      "q64\n",
      "q65\n",
      "q66\n",
      "q67\n",
      "q68\n",
      "q69\n",
      "q7\n",
      "q70\n",
      "q71\n",
      "q72\n",
      "q73\n",
      "q74\n",
      "q75\n",
      "q76\n",
      "q77\n",
      "q78\n",
      "q79\n",
      "q8\n",
      "q80\n",
      "q81\n",
      "q82\n",
      "q83\n",
      "q84\n",
      "q85\n",
      "q86\n",
      "q87\n",
      "q88\n",
      "q89\n",
      "q9\n",
      "q90\n",
      "q91\n",
      "q92\n",
      "q93\n",
      "q94\n",
      "q95\n",
      "q96\n",
      "q97\n",
      "q98\n",
      "q99\n"
     ]
    }
   ],
   "source": [
    "covers = []\n",
    "ncovers = []\n",
    "\n",
    "for query in results:\n",
    "    \n",
    "    print(query)\n",
    "    \n",
    "    for k, ref in enumerate(results[query][\"res\"]):\n",
    "        if ref_dic[ref[\"ref\"]][\"songid\"] == query_dic[query][\"songid\"]:\n",
    "            covers.append(ref[\"distance\"])\n",
    "        else:\n",
    "            ncovers.append(ref[\"distance\"])\n",
    "                       "
   ]
  },
  {
   "cell_type": "markdown",
   "id": "c0f15dcc",
   "metadata": {},
   "source": [
    "## Statistics"
   ]
  },
  {
   "cell_type": "markdown",
   "id": "b947cdea",
   "metadata": {},
   "source": [
    "## MRR"
   ]
  },
  {
   "cell_type": "code",
   "execution_count": 34,
   "id": "9305d124",
   "metadata": {},
   "outputs": [],
   "source": [
    "def mean_reciprocal_rank(rs):\n",
    "    \"\"\"Score is reciprocal of the rank of the first relevant item\n",
    "\n",
    "    First element is 'rank 1'.  Relevance is binary (nonzero is relevant).\n",
    "\n",
    "    Example from http://en.wikipedia.org/wiki/Mean_reciprocal_rank\n",
    "    >>> rs = [[0, 0, 1], [0, 1, 0], [1, 0, 0]]\n",
    "    >>> mean_reciprocal_rank(rs)\n",
    "    0.61111111111111105\n",
    "    >>> rs = np.array([[0, 0, 0], [0, 1, 0], [1, 0, 0]])\n",
    "    >>> mean_reciprocal_rank(rs)\n",
    "    0.5\n",
    "    >>> rs = [[0, 0, 0, 1], [1, 0, 0], [1, 0, 0]]\n",
    "    >>> mean_reciprocal_rank(rs)\n",
    "    0.75\n",
    "\n",
    "    Args:\n",
    "        rs: Iterator of relevance scores (list or numpy) in rank order\n",
    "            (first element is the first item)\n",
    "\n",
    "    Returns:\n",
    "        Mean reciprocal rank\n",
    "    \"\"\"\n",
    "    rs = (np.asarray(r).nonzero()[0] for r in rs)\n",
    "    return np.mean([1. / (r[0] + 1) if r.size else 0. for r in rs])"
   ]
  },
  {
   "cell_type": "code",
   "execution_count": 35,
   "id": "cdeab75b",
   "metadata": {},
   "outputs": [
    {
     "name": "stdout",
     "output_type": "stream",
     "text": [
      "0.05606968821953658\n"
     ]
    }
   ],
   "source": [
    "relevance = []\n",
    "for query in results:  \n",
    "    \n",
    "    rel = [ref_dic[ref[\"ref\"]][\"songid\"] == query_dic[query][\"songid\"] for ref in results[query][\"res\"]]\n",
    "    if any(rel):\n",
    "        relevance.append(np.array(rel).astype(int))\n",
    "        results[query][\"relevance\"]=np.array(rel).astype(int)\n",
    "        \n",
    "MRR = mean_reciprocal_rank(relevance)\n",
    "print(MRR)\n"
   ]
  },
  {
   "cell_type": "markdown",
   "id": "04d2e59e",
   "metadata": {},
   "source": [
    "## Top 1- 3 - 5 - 10"
   ]
  },
  {
   "cell_type": "code",
   "execution_count": 36,
   "id": "d34835ab",
   "metadata": {},
   "outputs": [
    {
     "name": "stdout",
     "output_type": "stream",
     "text": [
      "[0.0, 0.0423728813559322, 0.06779661016949153, 0.11016949152542373]\n"
     ]
    }
   ],
   "source": [
    "relevance = np.array(relevance)\n",
    "tops = [0]*4\n",
    "for k,t in enumerate([1,3,5,10]):\n",
    "    tops[k] = sum(relevance[:,:t])/relevance.shape[0]\n",
    "\n",
    "print(tops)\n"
   ]
  },
  {
   "cell_type": "markdown",
   "id": "85d6233f",
   "metadata": {},
   "source": [
    "## plot Histograms"
   ]
  },
  {
   "cell_type": "code",
   "execution_count": 37,
   "id": "f7f245ab",
   "metadata": {},
   "outputs": [
    {
     "data": {
      "image/png": "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\n",
      "text/plain": [
       "<Figure size 432x288 with 1 Axes>"
      ]
     },
     "metadata": {
      "needs_background": "light"
     },
     "output_type": "display_data"
    }
   ],
   "source": [
    "allvalues = np.array(covers+ncovers)\n",
    "minvalue, maxvalue = np.min(allvalues), np.max(allvalues)\n",
    "\n",
    "bins = np.linspace(minvalue, maxvalue, 100)\n",
    "\n",
    "kwargs = dict(histtype='stepfilled', alpha=0.3, density=True, bins=bins, ec=\"k\")\n",
    "\n",
    "plt.figure()\n",
    "plt.hist(covers,label='covers', **kwargs)\n",
    "plt.hist(ncovers,label='ncovers', **kwargs)\n",
    "plt.legend(loc='upper left')\n",
    "plt.title('Distância Covers e não Covers')\n",
    "filename = os.path.join(results_path,\"distances_qbh.svg\")\n",
    "\n",
    "plt.xlim([0.0, 10.0])\n",
    "plt.savefig(filename, bbox_inches='tight')\n",
    "\n",
    "plt.show()"
   ]
  },
  {
   "cell_type": "code",
   "execution_count": 39,
   "id": "2aa898d0",
   "metadata": {},
   "outputs": [
    {
     "name": "stdout",
     "output_type": "stream",
     "text": [
      "['q103', 'q105', 'q108', 'q16', 'q18', 'q3', 'q35', 'q39', 'q43', 'q45', 'q49', 'q52', 'q66', 'q78', 'q81', 'q98']\n"
     ]
    }
   ],
   "source": [
    "top = []\n",
    "for query in results:\n",
    "    if results[query][\"relevance\"][0] == 1:\n",
    "        top.append(query)\n",
    "print(top)"
   ]
  },
  {
   "cell_type": "code",
   "execution_count": 40,
   "id": "4d02306f",
   "metadata": {},
   "outputs": [
    {
     "name": "stdout",
     "output_type": "stream",
     "text": [
      "q103 1835\n",
      "q105 2133\n",
      "q108 995\n",
      "q16 937\n",
      "q18 995\n",
      "q3 1546\n",
      "q35 2063\n",
      "q39 1564\n",
      "q43 1832\n",
      "q45 2045\n",
      "q49 1568\n",
      "q52 2146\n",
      "q66 941\n",
      "q78 70\n",
      "q81 1142\n",
      "q98 1066\n"
     ]
    }
   ],
   "source": [
    "for t in top:\n",
    "    print(t, results[t][\"songid\"])"
   ]
  },
  {
   "cell_type": "code",
   "execution_count": null,
   "id": "21fd4dc8",
   "metadata": {},
   "outputs": [],
   "source": []
  }
 ],
 "metadata": {
  "kernelspec": {
   "display_name": "Python 3",
   "language": "python",
   "name": "python3"
  },
  "language_info": {
   "codemirror_mode": {
    "name": "ipython",
    "version": 3
   },
   "file_extension": ".py",
   "mimetype": "text/x-python",
   "name": "python",
   "nbconvert_exporter": "python",
   "pygments_lexer": "ipython3",
   "version": "3.8.9"
  }
 },
 "nbformat": 4,
 "nbformat_minor": 5
}
