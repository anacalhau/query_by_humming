{
 "cells": [
  {
   "cell_type": "code",
   "execution_count": 302,
   "id": "e6ffd5fc",
   "metadata": {},
   "outputs": [],
   "source": [
    "import os, sys, csv\n",
    "import essentia\n",
    "from essentia import *\n",
    "from essentia.standard import *\n",
    "from pylab import *\n",
    "from numpy import *\n",
    "import matplotlib.pyplot as plt\n",
    "import numpy as np\n",
    "import scipy\n",
    "import librosa\n",
    "import librosa.display\n",
    "import pandas as pd\n",
    "import glob\n",
    "import pickle"
   ]
  },
  {
   "cell_type": "markdown",
   "id": "3aebf5aa",
   "metadata": {},
   "source": [
    "# Parameters"
   ]
  },
  {
   "cell_type": "code",
   "execution_count": 303,
   "id": "5923369f",
   "metadata": {},
   "outputs": [],
   "source": [
    "\n",
    "hopSize = 128\n",
    "frameSize = 2048\n",
    "sampleRate = 44100\n",
    "guessUnvoiced = True\n",
    "\n",
    "median_filter_size = 21\n",
    "block_chromagram = 150\n",
    "ref_note_hz = 55.0\n",
    "\n",
    "notes = librosa.hz_to_note([55.0,58.27,61.74,65.41,69.30,73.42,77.78,82.41,87.31,92.50,97.99,103.83])"
   ]
  },
  {
   "cell_type": "markdown",
   "id": "de966c5f",
   "metadata": {},
   "source": [
    "## Directories"
   ]
  },
  {
   "cell_type": "code",
   "execution_count": 304,
   "id": "37bbff70",
   "metadata": {},
   "outputs": [],
   "source": [
    "ref_path = \"/Users/dirceusilva/OneDrive/Dissertação/Dataset/MTG-QBH/audios_originais\"\n",
    "query_path = \"/Users/dirceusilva/OneDrive/Dissertação/Dataset/MTG-QBH/audio\"\n",
    "metadata_path = \"/Users/dirceusilva/OneDrive/Dissertação/Dataset/MTG-QBH/metadata/Queries.csv\"\n",
    "results_path = \"/Users/dirceusilva/Documentos/tests/qbh\""
   ]
  },
  {
   "cell_type": "markdown",
   "id": "68f8ecf2",
   "metadata": {},
   "source": [
    "# Functions"
   ]
  },
  {
   "cell_type": "markdown",
   "id": "343ba487",
   "metadata": {},
   "source": [
    "## Read Audio"
   ]
  },
  {
   "cell_type": "code",
   "execution_count": 305,
   "id": "f3d690eb",
   "metadata": {},
   "outputs": [],
   "source": [
    "def read_audio_essentia(filename, sampleRate):\n",
    "    # create an audio loader and import audio file\n",
    "    loader = essentia.standard.MonoLoader(filename = filename, sampleRate = sampleRate, downmix=\"mix\")\n",
    "    audio = loader()\n",
    "    \n",
    "    \n",
    "    return audio, sampleRate\n",
    "\n",
    "def read_audio_librosa(filename, sampleRate):\n",
    "    # create an audio loader and import audio file\n",
    "    audio, fs = librosa.load(filename, sr = sampleRate, mono=True)\n",
    "    \n",
    "    return audio, fs\n"
   ]
  },
  {
   "cell_type": "markdown",
   "id": "a4aebd06",
   "metadata": {},
   "source": [
    "## Melody Extraction"
   ]
  },
  {
   "cell_type": "code",
   "execution_count": 306,
   "id": "94476a7b",
   "metadata": {},
   "outputs": [],
   "source": [
    "def melody_extraction(audio, framesize, hopsize):\n",
    "    # PitchMelodia takes the entire audio signal as input - no frame-wise processing is required here...\n",
    "    audio = EqualLoudness()(audio)\n",
    "    pExt = PredominantPitchMelodia(frameSize = framesize, \n",
    "                                   hopSize = hopsize,\n",
    "                                   maxFrequency = 20000.0,\n",
    "                                   minFrequency = 80.0,\n",
    "                                   magnitudeThreshold = 40,\n",
    "                                   guessUnvoiced = False)\n",
    "    pitch, pitchConf = pExt(audio)\n",
    "    time=np.linspace(0.0,len(audio)/sampleRate,len(pitch) )\n",
    "    \n",
    "    return pitch, pitchConf, time"
   ]
  },
  {
   "cell_type": "markdown",
   "id": "d644de1d",
   "metadata": {},
   "source": [
    "##  Scales Conversions"
   ]
  },
  {
   "cell_type": "code",
   "execution_count": 307,
   "id": "3cfb5e36",
   "metadata": {},
   "outputs": [],
   "source": [
    "def hz_to_cents(hz, fref=440.0):\n",
    "    m = np.asanyarray(hz)/fref\n",
    "    return 1200*(np.log2(m, out=np.zeros_like(m), where=(m!=0.))) # - np.log2(fref))\n",
    "\n",
    "def cents_to_hz(cents, fref=440.0):\n",
    "    return fref * 2**(np.asanyarray(cents)/1200)\n",
    "\n",
    "def hz_to_idx_semitone(hz, fref=440.0, pcpsize=12.0):\n",
    "    m = np.asanyarray(hz)/fref\n",
    "    return np.round(pcpsize*(np.log2(m, out=np.zeros_like(m), where=(m!=0.)))) % pcpsize + 1\n",
    "\n",
    "def semitone_dist_to_hz(semitone, fref=440.0, pcpsize=12):\n",
    "    return fref * 2**(np.asanyarray(semitone)/pcpsize)\n",
    "\n",
    "def hz_to_octs(hz, tuning=0.0, pcpsize=12, fref=440.0):\n",
    "    A440 = fref * 2.0 ** (tuning / pcpsize-4)\n",
    "    m = np.asanyarray(hz)/float(A440)\n",
    "    return np.log2(m, out=np.zeros_like(m), where=(m!=0.))\n",
    "\n",
    "def octs_to_hz(octs, tuning=0.0, pcpsize=12, fref=440.0):\n",
    "    A440 = fref * 2.0 ** (tuning / pcpsize-4)\n",
    "    return float(A440) * (2.0 ** np.asanyarray(octs))\n",
    "\n",
    "def midi_to_hz(p):\n",
    "    return 440.0 * (2.0 ** ((np.asanyarray(p) - 69.0) / 12.0))\n",
    "\n",
    "def hz_to_midi(hz, A440=440.0):\n",
    "    m = np.asanyarray(hz)/float(A440)\n",
    "    return 12 * np.log2(m, out=np.zeros_like(m), where=(m!=0.)) + 69"
   ]
  },
  {
   "cell_type": "markdown",
   "id": "d1751404",
   "metadata": {},
   "source": [
    "## Semitone Quantization"
   ]
  },
  {
   "cell_type": "code",
   "execution_count": 308,
   "id": "abf64db8",
   "metadata": {},
   "outputs": [],
   "source": [
    "def quantization_semitone(pitch_cents):\n",
    "    \n",
    "    freqs=np.arange(-0.5,76,1)\n",
    "    semitones=semitone_dist_to_hz(freqs,fref=ref_note_hz)\n",
    "    bins_cents=hz_to_cents(semitones, fref=ref_note_hz)\n",
    "\n",
    "    idx = np.digitize(pitch_cents, bins=bins_cents)\n",
    "    cents_q = (bins_cents[idx]+bins_cents[idx-1])/2\n",
    "    cents_q[cents_q < 1.0]  = 0.0\n",
    "\n",
    "    return cents_q"
   ]
  },
  {
   "cell_type": "markdown",
   "id": "d39ff1ba",
   "metadata": {},
   "source": [
    "## Semitones to Octaves and Chromagram"
   ]
  },
  {
   "cell_type": "code",
   "execution_count": 309,
   "id": "01cbeadd",
   "metadata": {},
   "outputs": [],
   "source": [
    "def semitone_to_octave(cents, pitchConf):\n",
    "    \n",
    "    semitones_q = np.zeros_like(cents)\n",
    "    chromagram = np.zeros((12, len(cents)))\n",
    "\n",
    "    for i in range(len(cents)):\n",
    "        if cents[i] > 1.0:\n",
    "            semitones_q[i] = (cents[i] / 100) % 12\n",
    "            chromagram[int(semitones_q[i]),i] = pitchConf[i]\n",
    "            \n",
    "    return semitones_q, chromagram"
   ]
  },
  {
   "cell_type": "markdown",
   "id": "4f3d476f",
   "metadata": {},
   "source": [
    "## Chromagram Reduction"
   ]
  },
  {
   "cell_type": "code",
   "execution_count": 310,
   "id": "69fd8c18",
   "metadata": {},
   "outputs": [],
   "source": [
    "def chromagram_reduction(chromagram, block, time=None):\n",
    "    \n",
    "    nframes = int(np.ceil(chromagram.shape[1]/block))\n",
    "\n",
    "    chromagram_reduced = np.zeros((chromagram.shape[0],nframes))\n",
    "    \n",
    "    time_reduced = None\n",
    "    if time is not None:\n",
    "        time_reduced = np.zeros((nframes,))\n",
    "\n",
    "    for k in range(chromagram_reduced.shape[1]):\n",
    "        start = k*block\n",
    "        end = min((k+1)*block,chromagram.shape[1])\n",
    "        chromagram_reduced[:,k] =  np.sum(chromagram[:,start:end], axis=1)\n",
    "        if time is not None:\n",
    "            time_reduced[k] = np.mean(time[start:end])\n",
    "    \n",
    "    # divide by max each column\n",
    "    #chromagram_reduced = chromagram_reduced/(np.max(chromagram_reduced,axis=0)+np.spacing(0)) \n",
    "    \n",
    "    return chromagram_reduced, time_reduced"
   ]
  },
  {
   "cell_type": "markdown",
   "id": "22c2fdb7",
   "metadata": {},
   "source": [
    "##  Plot Chromagram"
   ]
  },
  {
   "cell_type": "code",
   "execution_count": 311,
   "id": "ba118954",
   "metadata": {},
   "outputs": [],
   "source": [
    "def plot_chromagram(chroma, times, notes, mappable = None):\n",
    "    plt.figure(figsize=(20,8))\n",
    "    plt_spec = plt.imshow(chroma,origin='lower', aspect=\"auto\")\n",
    "\n",
    "    ## create ylim\n",
    "    ks      = np.arange(12)\n",
    "    plt.yticks(ks,notes)\n",
    "    plt.ylabel(\"Notes\")\n",
    "\n",
    "    ## create xlim\n",
    "    Nxticks = 10\n",
    "    ts_spec = np.linspace(0,chroma.shape[1],Nxticks)\n",
    "\n",
    "    ts_spec_sec  = [\"{:4.2f}\".format(times[min(int(i),len(times)-1)]) for i in ts_spec]\n",
    "    plt.xticks(ts_spec,ts_spec_sec)\n",
    "    plt.xlabel(\"Time (sec)\")\n",
    "\n",
    "    plt.title(\"Chromagram\")\n",
    "    plt.colorbar(mappable,use_gridspec=True)\n",
    "    plt.show()\n",
    "    return(plt_spec)"
   ]
  },
  {
   "cell_type": "markdown",
   "id": "863edd91",
   "metadata": {},
   "source": [
    "## Chromagram Extraction Algorithm"
   ]
  },
  {
   "cell_type": "code",
   "execution_count": 312,
   "id": "96baa81e",
   "metadata": {},
   "outputs": [],
   "source": [
    "def chromagram_extraction(audio, frameSize, hopSize):\n",
    "    # Melody Extraction\n",
    "    pitch, pitchConf, time = melody_extraction(audio, frameSize, hopSize)\n",
    "    # Convert to cents\n",
    "    pitch_cents = hz_to_cents(pitch, fref=ref_note_hz)\n",
    "    # Quantization\n",
    "    pitch_cents_q = quantization_semitone(pitch_cents)\n",
    "    # Median Filter\n",
    "    pitch_cents_q_filtered=scipy.signal.medfilt(pitch_cents_q, median_filter_size)\n",
    "    # Chromagram\n",
    "    pitch_semitones_q, chromagram = semitone_to_octave(pitch_cents_q_filtered, pitchConf)\n",
    "    # Chromagram reduction\n",
    "    chromagram_reduced, time_reduced = chromagram_reduction(chromagram, block_chromagram, time=time)\n",
    "    \n",
    "    return chromagram_reduced, time_reduced"
   ]
  },
  {
   "cell_type": "markdown",
   "id": "75c9e988",
   "metadata": {},
   "source": [
    "# Algorithm"
   ]
  },
  {
   "cell_type": "markdown",
   "id": "7506c44c",
   "metadata": {},
   "source": [
    "## Load and Extract Reference Dataset"
   ]
  },
  {
   "cell_type": "code",
   "execution_count": 313,
   "id": "b8fe56a3",
   "metadata": {},
   "outputs": [
    {
     "name": "stdout",
     "output_type": "stream",
     "text": [
      "0 - 81 - 2015\n",
      "1 - 81 - 1252\n",
      "2 - 81 - 1118\n",
      "3 - 81 - 1441\n",
      "4 - 81 - 937\n",
      "5 - 81 - 276\n",
      "6 - 81 - 14\n",
      "7 - 81 - 663\n",
      "8 - 81 - 1719\n",
      "9 - 81 - 1849\n",
      "10 - 81 - 941\n",
      "11 - 81 - 1806\n",
      "12 - 81 - 1185\n",
      "13 - 81 - 60\n",
      "14 - 81 - 1224\n",
      "15 - 81 - 2063\n",
      "16 - 81 - 1568\n",
      "17 - 81 - 995\n",
      "18 - 81 - 2115\n",
      "19 - 81 - 2074\n",
      "20 - 81 - 1794\n",
      "21 - 81 - 1747\n",
      "22 - 81 - 204\n",
      "23 - 81 - 1237\n",
      "24 - 81 - 1579\n",
      "25 - 81 - 1592\n",
      "26 - 81 - 98\n",
      "27 - 81 - 1168\n",
      "28 - 81 - 1546\n",
      "29 - 81 - 2113\n",
      "30 - 81 - 70\n",
      "31 - 81 - 1142\n",
      "32 - 81 - 1194\n",
      "33 - 81 - 1396\n",
      "34 - 81 - 1209\n",
      "35 - 81 - 789\n",
      "36 - 81 - 1786\n",
      "37 - 81 - 2269\n",
      "38 - 81 - 1576\n",
      "39 - 81 - 814\n",
      "40 - 81 - 1832\n",
      "41 - 81 - 96\n",
      "42 - 81 - 2056\n",
      "43 - 81 - 593\n",
      "44 - 81 - 1616\n",
      "45 - 81 - 1564\n",
      "46 - 81 - 2045\n",
      "47 - 81 - 2086\n",
      "48 - 81 - 1438\n",
      "49 - 81 - 1835\n",
      "50 - 81 - 1808\n",
      "51 - 81 - 1175\n",
      "52 - 81 - 1411\n",
      "53 - 81 - 768\n",
      "54 - 81 - 542\n",
      "55 - 81 - 597\n",
      "56 - 81 - 965\n",
      "57 - 81 - 391\n",
      "58 - 81 - 2133\n",
      "59 - 81 - 2090\n",
      "60 - 81 - 780\n",
      "61 - 81 - 1139\n",
      "62 - 81 - 1066\n",
      "63 - 81 - 479\n",
      "64 - 81 - 646\n",
      "65 - 81 - 1488\n",
      "66 - 81 - 2208\n",
      "67 - 81 - 281\n",
      "68 - 81 - 2026\n",
      "69 - 81 - 19\n",
      "70 - 81 - 2146\n",
      "71 - 81 - 253\n",
      "72 - 81 - 1510\n",
      "73 - 81 - 2031\n",
      "74 - 81 - 912\n",
      "75 - 81 - 2179\n",
      "76 - 81 - 641\n",
      "77 - 81 - 668\n",
      "78 - 81 - 126\n",
      "79 - 81 - 708\n",
      "80 - 81 - 2024\n"
     ]
    }
   ],
   "source": [
    "\n",
    "filenames = glob.glob(os.path.join(ref_path,\"*.wav\"))\n",
    "\n",
    "ref_melody = []\n",
    "ref_dic = {}\n",
    "\n",
    "for k,filepath in enumerate(filenames):\n",
    "    file = os.path.basename(filepath)[:-4]\n",
    "    print(\"{:d} - {:d} - {}\".format(k, len(filenames), file))\n",
    "\n",
    "    ref_dic[file] = {}\n",
    "    ref_dic[file][\"songid\"] = file\n",
    "    \n",
    "    audio, fs = read_audio_essentia(filepath, sampleRate)\n",
    "    chromagram_reduced, time_reduced = chromagram_extraction(audio, frameSize, hopSize)\n",
    "    \n",
    "    ref_dic[file][\"chroma\"] = chromagram_reduced.T.astype(np.float32)\n",
    "    ref_dic[file][\"time\"] = time_reduced\n",
    "    \n"
   ]
  },
  {
   "cell_type": "code",
   "execution_count": 314,
   "id": "6f5252de",
   "metadata": {},
   "outputs": [],
   "source": [
    "fileRef = \"ChromaRef.pkl\"\n",
    "\n",
    "with open(os.path.join(results_path, fileRef),\"wb\") as f:\n",
    "    pickle.dump(ref_dic,f)"
   ]
  },
  {
   "cell_type": "markdown",
   "id": "ea4f838c",
   "metadata": {},
   "source": [
    "## Load Metadata"
   ]
  },
  {
   "cell_type": "code",
   "execution_count": 315,
   "id": "c03a698c",
   "metadata": {
    "scrolled": true
   },
   "outputs": [
    {
     "name": "stdout",
     "output_type": "stream",
     "text": [
      "1118\n"
     ]
    }
   ],
   "source": [
    "Queries_df = pd.read_csv(metadata_path, sep=\",\")\n",
    "songid = Queries_df[Queries_df[\"Query ID\"] == \"q1\"][\"Song ID\"].values.astype(str)[0]\n",
    "print(songid)"
   ]
  },
  {
   "cell_type": "markdown",
   "id": "39ee6c17",
   "metadata": {},
   "source": [
    "## Load and Extract Query Dataset"
   ]
  },
  {
   "cell_type": "code",
   "execution_count": 316,
   "id": "8499b555",
   "metadata": {},
   "outputs": [
    {
     "name": "stdout",
     "output_type": "stream",
     "text": [
      "0 - 118 - q13\n",
      "1 - 118 - q12\n",
      "2 - 118 - q10\n",
      "3 - 118 - q38\n",
      "4 - 118 - q39\n",
      "5 - 118 - q11\n",
      "6 - 118 - q29\n",
      "7 - 118 - q15\n",
      "8 - 118 - q14\n",
      "9 - 118 - q28\n",
      "10 - 118 - q16\n",
      "11 - 118 - q9\n",
      "12 - 118 - q8\n",
      "13 - 118 - q17\n",
      "14 - 118 - q70\n",
      "15 - 118 - q64\n",
      "16 - 118 - q58\n",
      "17 - 118 - q59\n",
      "18 - 118 - q65\n",
      "19 - 118 - q71\n",
      "20 - 118 - q118\n",
      "21 - 118 - q67\n",
      "22 - 118 - q73\n",
      "23 - 118 - q98\n",
      "24 - 118 - q99\n",
      "25 - 118 - q72\n",
      "26 - 118 - q66\n",
      "27 - 118 - q62\n",
      "28 - 118 - q76\n",
      "29 - 118 - q89\n",
      "30 - 118 - q88\n",
      "31 - 118 - q77\n",
      "32 - 118 - q63\n",
      "33 - 118 - q108\n",
      "34 - 118 - q49\n",
      "35 - 118 - q75\n",
      "36 - 118 - q61\n",
      "37 - 118 - q60\n",
      "38 - 118 - q74\n",
      "39 - 118 - q48\n",
      "40 - 118 - q109\n",
      "41 - 118 - q104\n",
      "42 - 118 - q110\n",
      "43 - 118 - q51\n",
      "44 - 118 - q45\n",
      "45 - 118 - q79\n",
      "46 - 118 - q92\n",
      "47 - 118 - q86\n",
      "48 - 118 - q87\n",
      "49 - 118 - q93\n",
      "50 - 118 - q78\n",
      "51 - 118 - q44\n",
      "52 - 118 - q50\n",
      "53 - 118 - q111\n",
      "54 - 118 - q105\n",
      "55 - 118 - q113\n",
      "56 - 118 - q107\n",
      "57 - 118 - q46\n",
      "58 - 118 - q52\n",
      "59 - 118 - q85\n",
      "60 - 118 - q91\n",
      "61 - 118 - q90\n",
      "62 - 118 - q84\n",
      "63 - 118 - q53\n",
      "64 - 118 - q47\n",
      "65 - 118 - q106\n",
      "66 - 118 - q112\n",
      "67 - 118 - q116\n",
      "68 - 118 - q102\n",
      "69 - 118 - q43\n",
      "70 - 118 - q57\n",
      "71 - 118 - q80\n",
      "72 - 118 - q94\n",
      "73 - 118 - q95\n",
      "74 - 118 - q81\n",
      "75 - 118 - q56\n",
      "76 - 118 - q42\n",
      "77 - 118 - q103\n",
      "78 - 118 - q117\n",
      "79 - 118 - q101\n",
      "80 - 118 - q115\n",
      "81 - 118 - q68\n",
      "82 - 118 - q54\n",
      "83 - 118 - q40\n",
      "84 - 118 - q97\n",
      "85 - 118 - q83\n",
      "86 - 118 - q82\n",
      "87 - 118 - q96\n",
      "88 - 118 - q41\n",
      "89 - 118 - q55\n",
      "90 - 118 - q69\n",
      "91 - 118 - q114\n",
      "92 - 118 - q100\n",
      "93 - 118 - q32\n",
      "94 - 118 - q26\n",
      "95 - 118 - q5\n",
      "96 - 118 - q4\n",
      "97 - 118 - q27\n",
      "98 - 118 - q33\n",
      "99 - 118 - q25\n",
      "100 - 118 - q31\n",
      "101 - 118 - q19\n",
      "102 - 118 - q6\n",
      "103 - 118 - q7\n",
      "104 - 118 - q18\n",
      "105 - 118 - q30\n",
      "106 - 118 - q24\n",
      "107 - 118 - q20\n",
      "108 - 118 - q34\n",
      "109 - 118 - q3\n",
      "110 - 118 - q2\n",
      "111 - 118 - q35\n",
      "112 - 118 - q21\n",
      "113 - 118 - q37\n",
      "114 - 118 - q23\n",
      "115 - 118 - q1\n",
      "116 - 118 - q22\n",
      "117 - 118 - q36\n"
     ]
    }
   ],
   "source": [
    "filenames = glob.glob(os.path.join(query_path,\"*.wav\"))\n",
    "\n",
    "query_dic = {}\n",
    "\n",
    "for k,filepath in enumerate(filenames):\n",
    "    file = os.path.basename(filepath)[:-4]\n",
    "    print(\"{:d} - {:d} - {}\".format(k, len(filenames), file))\n",
    "    query = file.split(\".\")[0]\n",
    "    query_dic[file] = {}\n",
    "    query_dic[file][\"query\"] = query\n",
    "    query_dic[file][\"songid\"] = Queries_df[Queries_df[\"Query ID\"] == file][\"Song ID\"].values.astype(str)[0]\n",
    "    \n",
    "    audio, fs = read_audio_essentia(filepath, sampleRate)\n",
    "    chromagram_reduced, time_reduced = chromagram_extraction(audio, frameSize, hopSize)\n",
    "    \n",
    "    query_dic[file][\"chroma\"] = chromagram_reduced.T.astype(np.float32)\n",
    "    query_dic[file][\"time\"] = time_reduced\n",
    "    "
   ]
  },
  {
   "cell_type": "code",
   "execution_count": 317,
   "id": "f1803702",
   "metadata": {},
   "outputs": [],
   "source": [
    "fileQuery = \"ChromaQuery.pkl\"\n",
    "\n",
    "with open(os.path.join(results_path, fileQuery),\"wb\") as f:\n",
    "    pickle.dump(query_dic,f)"
   ]
  },
  {
   "cell_type": "markdown",
   "id": "62594e55",
   "metadata": {},
   "source": [
    "## Read Chromas"
   ]
  },
  {
   "cell_type": "code",
   "execution_count": 318,
   "id": "6c5dde91",
   "metadata": {},
   "outputs": [],
   "source": [
    "fileQuery = \"ChromaQuery.pkl\"\n",
    "\n",
    "with open(os.path.join(results_path, fileQuery),\"rb\") as f:\n",
    "    query_dic = pickle.load(f)\n",
    "\n",
    "fileRef = \"ChromaRef.pkl\"\n",
    "\n",
    "with open(os.path.join(results_path, fileRef),\"rb\") as f:\n",
    "    ref_dic = pickle.load(f)"
   ]
  },
  {
   "cell_type": "markdown",
   "id": "af7615df",
   "metadata": {},
   "source": [
    "## Comparisons"
   ]
  },
  {
   "cell_type": "code",
   "execution_count": 319,
   "id": "2f970ef2",
   "metadata": {},
   "outputs": [
    {
     "name": "stdout",
     "output_type": "stream",
     "text": [
      "0 - 118 - q13\n",
      "1 - 118 - q12\n",
      "2 - 118 - q10\n",
      "3 - 118 - q38\n",
      "4 - 118 - q39\n",
      "5 - 118 - q11\n",
      "6 - 118 - q29\n",
      "7 - 118 - q15\n",
      "8 - 118 - q14\n",
      "9 - 118 - q28\n",
      "10 - 118 - q16\n",
      "11 - 118 - q9\n",
      "12 - 118 - q8\n",
      "13 - 118 - q17\n",
      "14 - 118 - q70\n",
      "15 - 118 - q64\n",
      "16 - 118 - q58\n",
      "17 - 118 - q59\n",
      "18 - 118 - q65\n",
      "19 - 118 - q71\n",
      "20 - 118 - q118\n",
      "21 - 118 - q67\n",
      "22 - 118 - q73\n",
      "23 - 118 - q98\n",
      "24 - 118 - q99\n",
      "25 - 118 - q72\n",
      "26 - 118 - q66\n",
      "27 - 118 - q62\n",
      "28 - 118 - q76\n",
      "29 - 118 - q89\n",
      "30 - 118 - q88\n",
      "31 - 118 - q77\n",
      "32 - 118 - q63\n",
      "33 - 118 - q108\n",
      "34 - 118 - q49\n",
      "35 - 118 - q75\n",
      "36 - 118 - q61\n",
      "37 - 118 - q60\n",
      "38 - 118 - q74\n",
      "39 - 118 - q48\n",
      "40 - 118 - q109\n",
      "41 - 118 - q104\n",
      "42 - 118 - q110\n",
      "43 - 118 - q51\n",
      "44 - 118 - q45\n",
      "45 - 118 - q79\n",
      "46 - 118 - q92\n",
      "47 - 118 - q86\n",
      "48 - 118 - q87\n",
      "49 - 118 - q93\n",
      "50 - 118 - q78\n",
      "51 - 118 - q44\n",
      "52 - 118 - q50\n",
      "53 - 118 - q111\n",
      "54 - 118 - q105\n",
      "55 - 118 - q113\n",
      "56 - 118 - q107\n",
      "57 - 118 - q46\n",
      "58 - 118 - q52\n",
      "59 - 118 - q85\n",
      "60 - 118 - q91\n",
      "61 - 118 - q90\n",
      "62 - 118 - q84\n",
      "63 - 118 - q53\n",
      "64 - 118 - q47\n",
      "65 - 118 - q106\n",
      "66 - 118 - q112\n",
      "67 - 118 - q116\n",
      "68 - 118 - q102\n",
      "69 - 118 - q43\n",
      "70 - 118 - q57\n",
      "71 - 118 - q80\n",
      "72 - 118 - q94\n",
      "73 - 118 - q95\n",
      "74 - 118 - q81\n",
      "75 - 118 - q56\n",
      "76 - 118 - q42\n",
      "77 - 118 - q103\n",
      "78 - 118 - q117\n",
      "79 - 118 - q101\n",
      "80 - 118 - q115\n",
      "81 - 118 - q68\n",
      "82 - 118 - q54\n",
      "83 - 118 - q40\n",
      "84 - 118 - q97\n",
      "85 - 118 - q83\n",
      "86 - 118 - q82\n",
      "87 - 118 - q96\n",
      "88 - 118 - q41\n",
      "89 - 118 - q55\n",
      "90 - 118 - q69\n",
      "91 - 118 - q114\n",
      "92 - 118 - q100\n",
      "93 - 118 - q32\n",
      "94 - 118 - q26\n",
      "95 - 118 - q5\n",
      "96 - 118 - q4\n",
      "97 - 118 - q27\n",
      "98 - 118 - q33\n",
      "99 - 118 - q25\n",
      "100 - 118 - q31\n",
      "101 - 118 - q19\n",
      "102 - 118 - q6\n",
      "103 - 118 - q7\n",
      "104 - 118 - q18\n",
      "105 - 118 - q30\n",
      "106 - 118 - q24\n",
      "107 - 118 - q20\n",
      "108 - 118 - q34\n",
      "109 - 118 - q3\n",
      "110 - 118 - q2\n",
      "111 - 118 - q35\n",
      "112 - 118 - q21\n",
      "113 - 118 - q37\n",
      "114 - 118 - q23\n",
      "115 - 118 - q1\n",
      "116 - 118 - q22\n",
      "117 - 118 - q36\n"
     ]
    }
   ],
   "source": [
    "pChromaCrossSim = ChromaCrossSimilarity(frameStackSize=1)\n",
    "pCoverSongSim = CoverSongSimilarity(alignmentType=\"serra09\")\n",
    "\n",
    "results = {}\n",
    "\n",
    "for k,q in enumerate(query_dic.keys()):\n",
    "    print(\"{:d} - {:d} - {}\".format(k, len(query_dic), query_dic[q][\"query\"]))\n",
    "    \n",
    "    results[q] = {\"query\": query_dic[q][\"query\"],\n",
    "                  \"songid\": query_dic[q][\"songid\"],\n",
    "                  \"res\": []}\n",
    "    \n",
    "    for r in ref_dic.keys():\n",
    "\n",
    "        csm = pChromaCrossSim(query_dic[q][\"chroma\"], ref_dic[r][\"chroma\"])\n",
    "        scoreMatrix, distance = pCoverSongSim(csm)\n",
    "        \n",
    "        res = {}\n",
    "        res[\"scoreMatrix\"] = scoreMatrix\n",
    "        res[\"distance\"] = distance\n",
    "        res[\"csm\"] = csm\n",
    "        res[\"ref\"] = r\n",
    "        \n",
    "        results[q][\"res\"].append(res)\n",
    "\n",
    "        \n",
    "\n",
    "fileResults = \"Results.pkl\"\n",
    "\n",
    "with open(os.path.join(results_path, fileResults),\"wb\") as f:\n",
    "    pickle.dump(results,f)"
   ]
  },
  {
   "cell_type": "markdown",
   "id": "71fff0fe",
   "metadata": {},
   "source": [
    "## results ordered by distances"
   ]
  },
  {
   "cell_type": "code",
   "execution_count": 320,
   "id": "422990dd",
   "metadata": {},
   "outputs": [],
   "source": [
    "\n",
    "def distSort(elem):\n",
    "    return elem[\"distance\"]\n",
    "\n",
    "for q in results:\n",
    "    results[q][\"res\"].sort(key=distSort)\n",
    "    "
   ]
  },
  {
   "cell_type": "markdown",
   "id": "8df07e7a",
   "metadata": {},
   "source": [
    "## Analysis"
   ]
  },
  {
   "cell_type": "code",
   "execution_count": 321,
   "id": "cf84a666",
   "metadata": {},
   "outputs": [
    {
     "name": "stdout",
     "output_type": "stream",
     "text": [
      "q13\n",
      "q12\n",
      "q10\n",
      "q38\n",
      "q39\n",
      "q11\n",
      "q29\n",
      "q15\n",
      "q14\n",
      "q28\n",
      "q16\n",
      "q9\n",
      "q8\n",
      "q17\n",
      "q70\n",
      "q64\n",
      "q58\n",
      "q59\n",
      "q65\n",
      "q71\n",
      "q118\n",
      "q67\n",
      "q73\n",
      "q98\n",
      "q99\n",
      "q72\n",
      "q66\n",
      "q62\n",
      "q76\n",
      "q89\n",
      "q88\n",
      "q77\n",
      "q63\n",
      "q108\n",
      "q49\n",
      "q75\n",
      "q61\n",
      "q60\n",
      "q74\n",
      "q48\n",
      "q109\n",
      "q104\n",
      "q110\n",
      "q51\n",
      "q45\n",
      "q79\n",
      "q92\n",
      "q86\n",
      "q87\n",
      "q93\n",
      "q78\n",
      "q44\n",
      "q50\n",
      "q111\n",
      "q105\n",
      "q113\n",
      "q107\n",
      "q46\n",
      "q52\n",
      "q85\n",
      "q91\n",
      "q90\n",
      "q84\n",
      "q53\n",
      "q47\n",
      "q106\n",
      "q112\n",
      "q116\n",
      "q102\n",
      "q43\n",
      "q57\n",
      "q80\n",
      "q94\n",
      "q95\n",
      "q81\n",
      "q56\n",
      "q42\n",
      "q103\n",
      "q117\n",
      "q101\n",
      "q115\n",
      "q68\n",
      "q54\n",
      "q40\n",
      "q97\n",
      "q83\n",
      "q82\n",
      "q96\n",
      "q41\n",
      "q55\n",
      "q69\n",
      "q114\n",
      "q100\n",
      "q32\n",
      "q26\n",
      "q5\n",
      "q4\n",
      "q27\n",
      "q33\n",
      "q25\n",
      "q31\n",
      "q19\n",
      "q6\n",
      "q7\n",
      "q18\n",
      "q30\n",
      "q24\n",
      "q20\n",
      "q34\n",
      "q3\n",
      "q2\n",
      "q35\n",
      "q21\n",
      "q37\n",
      "q23\n",
      "q1\n",
      "q22\n",
      "q36\n"
     ]
    }
   ],
   "source": [
    "covers = []\n",
    "ncovers = []\n",
    "\n",
    "for query in results:\n",
    "    \n",
    "    print(query)\n",
    "    \n",
    "    for k, ref in enumerate(results[query][\"res\"]):\n",
    "        if ref_dic[ref[\"ref\"]][\"songid\"] == query_dic[query][\"songid\"]:\n",
    "            covers.append(ref[\"distance\"])\n",
    "        else:\n",
    "            ncovers.append(ref[\"distance\"])\n",
    "                       "
   ]
  },
  {
   "cell_type": "markdown",
   "id": "c0f15dcc",
   "metadata": {},
   "source": [
    "## Statistics"
   ]
  },
  {
   "cell_type": "markdown",
   "id": "b947cdea",
   "metadata": {},
   "source": [
    "## MRR"
   ]
  },
  {
   "cell_type": "code",
   "execution_count": 322,
   "id": "9305d124",
   "metadata": {},
   "outputs": [],
   "source": [
    "def mean_reciprocal_rank(rs):\n",
    "    \"\"\"Score is reciprocal of the rank of the first relevant item\n",
    "\n",
    "    First element is 'rank 1'.  Relevance is binary (nonzero is relevant).\n",
    "\n",
    "    Example from http://en.wikipedia.org/wiki/Mean_reciprocal_rank\n",
    "    >>> rs = [[0, 0, 1], [0, 1, 0], [1, 0, 0]]\n",
    "    >>> mean_reciprocal_rank(rs)\n",
    "    0.61111111111111105\n",
    "    >>> rs = np.array([[0, 0, 0], [0, 1, 0], [1, 0, 0]])\n",
    "    >>> mean_reciprocal_rank(rs)\n",
    "    0.5\n",
    "    >>> rs = [[0, 0, 0, 1], [1, 0, 0], [1, 0, 0]]\n",
    "    >>> mean_reciprocal_rank(rs)\n",
    "    0.75\n",
    "\n",
    "    Args:\n",
    "        rs: Iterator of relevance scores (list or numpy) in rank order\n",
    "            (first element is the first item)\n",
    "\n",
    "    Returns:\n",
    "        Mean reciprocal rank\n",
    "    \"\"\"\n",
    "    rs = (np.asarray(r).nonzero()[0] for r in rs)\n",
    "    return np.mean([1. / (r[0] + 1) if r.size else 0. for r in rs])"
   ]
  },
  {
   "cell_type": "code",
   "execution_count": 323,
   "id": "cdeab75b",
   "metadata": {},
   "outputs": [
    {
     "name": "stdout",
     "output_type": "stream",
     "text": [
      "0.21603036531669786\n"
     ]
    }
   ],
   "source": [
    "relevance = []\n",
    "for query in results:  \n",
    "    rel = [ref_dic[ref[\"ref\"]][\"songid\"] == query_dic[query][\"songid\"] for ref in results[query][\"res\"]]\n",
    "    if any(rel):\n",
    "        relevance.append(np.array(rel).astype(int))\n",
    "\n",
    "MRR = mean_reciprocal_rank(relevance)\n",
    "print(MRR)\n"
   ]
  },
  {
   "cell_type": "markdown",
   "id": "04d2e59e",
   "metadata": {},
   "source": [
    "## Top 1- 3 - 5 - 10"
   ]
  },
  {
   "cell_type": "code",
   "execution_count": 324,
   "id": "d34835ab",
   "metadata": {},
   "outputs": [
    {
     "name": "stdout",
     "output_type": "stream",
     "text": [
      "[0.13559322033898305, 0.23728813559322035, 0.2796610169491525, 0.3474576271186441]\n"
     ]
    }
   ],
   "source": [
    "relevance = np.array(relevance)\n",
    "tops = [0]*4\n",
    "for k,t in enumerate([1,3,5,10]):\n",
    "    tops[k] = sum(relevance[:,:t])/relevance.shape[0]\n",
    "\n",
    "print(tops)\n"
   ]
  },
  {
   "cell_type": "markdown",
   "id": "85d6233f",
   "metadata": {},
   "source": [
    "## plot Histograms"
   ]
  },
  {
   "cell_type": "code",
   "execution_count": 325,
   "id": "f7f245ab",
   "metadata": {},
   "outputs": [
    {
     "data": {
      "image/png": "[encoded data removed]",
      "text/plain": [
       "<Figure size 432x288 with 1 Axes>"
      ]
     },
     "metadata": {
      "needs_background": "light"
     },
     "output_type": "display_data"
    }
   ],
   "source": [
    "allvalues = np.array(covers+ncovers)\n",
    "minvalue, maxvalue = np.min(allvalues), np.max(allvalues)\n",
    "\n",
    "bins = np.linspace(minvalue, maxvalue, 100)\n",
    "\n",
    "kwargs = dict(histtype='stepfilled', alpha=0.3, density=True, bins=bins, ec=\"k\")\n",
    "\n",
    "plt.figure()\n",
    "plt.hist(covers,label='covers', **kwargs)\n",
    "plt.hist(ncovers,label='ncovers', **kwargs)\n",
    "plt.legend(loc='upper left')\n",
    "plt.title('Distância Covers e não Covers')\n",
    "filename = os.path.join(results_path,\"distances_qbh.svg\")\n",
    "\n",
    "plt.xlim([0.0, 10.0])\n",
    "plt.savefig(filename, bbox_inches='tight')\n",
    "\n",
    "plt.show()"
   ]
  },
  {
   "cell_type": "code",
   "execution_count": null,
   "id": "2aa898d0",
   "metadata": {},
   "outputs": [],
   "source": []
  }
 ],
 "metadata": {
  "kernelspec": {
   "display_name": "Python 3",
   "language": "python",
   "name": "python3"
  },
  "language_info": {
   "codemirror_mode": {
    "name": "ipython",
    "version": 3
   },
   "file_extension": ".py",
   "mimetype": "text/x-python",
   "name": "python",
   "nbconvert_exporter": "python",
   "pygments_lexer": "ipython3",
   "version": "3.8.9"
  }
 },
 "nbformat": 4,
 "nbformat_minor": 5
}
